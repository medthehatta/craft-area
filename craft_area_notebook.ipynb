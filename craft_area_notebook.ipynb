{
 "cells": [
  {
   "cell_type": "code",
   "execution_count": 1,
   "id": "d5aa1e54-c32e-4863-bbd2-3e3026073f3f",
   "metadata": {},
   "outputs": [
    {
     "name": "stdout",
     "output_type": "stream",
     "text": [
      "C:\\Users\\Med\\Desktop\\craft-area\n"
     ]
    }
   ],
   "source": [
    "%cd ../craft-area\n",
    "from importlib import reload\n",
    "import chance; reload(chance)\n",
    "import craft_area as ca; reload(ca)\n",
    "import random"
   ]
  },
  {
   "cell_type": "code",
   "execution_count": 2,
   "id": "b0c548ed-089c-4ec3-936b-4b1ff197efee",
   "metadata": {},
   "outputs": [
    {
     "data": {
      "text/plain": [
       "Counter({'basic_unit': 4, 'exploding_unit': 6})"
      ]
     },
     "execution_count": 2,
     "metadata": {},
     "output_type": "execute_result"
    }
   ],
   "source": [
    "ca.random_fleet(10)"
   ]
  },
  {
   "cell_type": "code",
   "execution_count": 3,
   "id": "5ddb845c-3f86-4fe5-9547-9242e3b1b2b6",
   "metadata": {},
   "outputs": [
    {
     "data": {
      "text/plain": [
       "<Chances: 100*Damage.basic (50%)) | Damage.zero (50%))>"
      ]
     },
     "execution_count": 3,
     "metadata": {},
     "output_type": "execute_result"
    }
   ],
   "source": [
    "ca.basic_unit_type[\"attacks\"]"
   ]
  },
  {
   "cell_type": "code",
   "execution_count": 4,
   "id": "eefe1fae-1c6d-4595-96da-7b09391883e2",
   "metadata": {},
   "outputs": [
    {
     "data": {
      "text/plain": [
       "<Chances: 1 (37%)) | 2 (16%)) | 3 (42%)) | 9 (5%))>"
      ]
     },
     "execution_count": 4,
     "metadata": {},
     "output_type": "execute_result"
    }
   ],
   "source": [
    "ca.weighted([1, 2, 3, 9], [7, 3, 8, 1])"
   ]
  },
  {
   "cell_type": "code",
   "execution_count": 5,
   "id": "bdb39f6e-be07-4656-808e-3110c5e1226d",
   "metadata": {},
   "outputs": [
    {
     "data": {
      "text/plain": [
       "32"
      ]
     },
     "execution_count": 5,
     "metadata": {},
     "output_type": "execute_result"
    }
   ],
   "source": [
    "q = ca.uniform(1, ca.definitely(2)) + ca.uniform(20, 30, 40, 50)\n",
    "q.resolve()"
   ]
  },
  {
   "cell_type": "code",
   "execution_count": 8,
   "id": "5250d426-87a6-4c16-9f52-d45a3665c26f",
   "metadata": {},
   "outputs": [
    {
     "data": {
      "text/plain": [
       "{'damage': 400*Damage.basic,\n",
       " 'defenses': {'basic_unit': [100*Damage.basic,\n",
       "   100*Damage.basic,\n",
       "   100*Damage.basic,\n",
       "   100*Damage.basic],\n",
       "  'exploding_unit': [Damage.zero,\n",
       "   Damage.zero,\n",
       "   Damage.zero,\n",
       "   Damage.zero,\n",
       "   Damage.zero,\n",
       "   Damage.zero]}}"
      ]
     },
     "execution_count": 8,
     "metadata": {},
     "output_type": "execute_result"
    }
   ],
   "source": [
    "defense"
   ]
  },
  {
   "cell_type": "code",
   "execution_count": 44,
   "id": "b4e59734-87f2-4485-85f0-184799b5b9bd",
   "metadata": {},
   "outputs": [],
   "source": [
    "import craft_area as ca; reload(ca)\n",
    "\n",
    "all_entities = list(ca._battle_entities.values())\n",
    "units = [e[\"name\"] for e in all_entities if e[\"can_initiate\"]]\n",
    "structures = [e[\"name\"] for e in all_entities if not e[\"can_initiate\"]]\n",
    "\n",
    "attacking_fleet = ca.select_at_least_one_of_each(\n",
    "    ca.extract_pct_at_least_one(40, units),\n",
    "    num_min=10,\n",
    "    num_max=20,\n",
    ")\n",
    "\n",
    "defense = ca.select_at_least_one_of_each(\n",
    "    # Just assume there is a 70% chance the 0th structure is present\n",
    "    ca.extract_pct_at_least_one(30, units) + ca.percent_left(70, [structures[0]], []).resolve(),\n",
    "    num_min=10,\n",
    "    num_max=20,\n",
    ")"
   ]
  },
  {
   "cell_type": "code",
   "execution_count": 45,
   "id": "f86c7f53-23ea-4b7f-9f3a-4ac828a24d8f",
   "metadata": {},
   "outputs": [
    {
     "data": {
      "text/plain": [
       "Counter({'wall_unit': 8, 'module_structure': 5})"
      ]
     },
     "execution_count": 45,
     "metadata": {},
     "output_type": "execute_result"
    }
   ],
   "source": [
    "defense"
   ]
  },
  {
   "cell_type": "code",
   "execution_count": 46,
   "id": "4c2b9458-dc84-4dae-aa29-6afbdc34fbbd",
   "metadata": {},
   "outputs": [
    {
     "data": {
      "text/plain": [
       "Counter({'basic_unit': 19})"
      ]
     },
     "execution_count": 46,
     "metadata": {},
     "output_type": "execute_result"
    }
   ],
   "source": [
    "attacking_fleet"
   ]
  },
  {
   "cell_type": "code",
   "execution_count": 48,
   "id": "8e64cea7-4dde-43db-a598-1106f17f5323",
   "metadata": {},
   "outputs": [
    {
     "data": {
      "text/plain": [
       "{'damage': 1300*Damage.basic,\n",
       " 'attacks': {'basic_unit': [100*Damage.basic,\n",
       "   100*Damage.basic,\n",
       "   Damage.zero,\n",
       "   100*Damage.basic,\n",
       "   100*Damage.basic,\n",
       "   Damage.zero,\n",
       "   Damage.zero,\n",
       "   100*Damage.basic,\n",
       "   100*Damage.basic,\n",
       "   100*Damage.basic,\n",
       "   Damage.zero,\n",
       "   Damage.zero,\n",
       "   100*Damage.basic,\n",
       "   100*Damage.basic,\n",
       "   100*Damage.basic,\n",
       "   100*Damage.basic,\n",
       "   Damage.zero,\n",
       "   100*Damage.basic,\n",
       "   100*Damage.basic]}}"
      ]
     },
     "execution_count": 48,
     "metadata": {},
     "output_type": "execute_result"
    }
   ],
   "source": [
    "ca.produce_damage(attacking_fleet)"
   ]
  },
  {
   "cell_type": "code",
   "execution_count": 49,
   "id": "dccfe8bc-c467-4586-96a6-ae43357808cd",
   "metadata": {},
   "outputs": [
    {
     "data": {
      "text/plain": [
       "{'damage': 12600*Damage.basic,\n",
       " 'defenses': {'wall_unit': [950*Damage.basic,\n",
       "   950*Damage.basic,\n",
       "   950*Damage.basic,\n",
       "   950*Damage.basic,\n",
       "   950*Damage.basic,\n",
       "   950*Damage.basic,\n",
       "   950*Damage.basic,\n",
       "   950*Damage.basic],\n",
       "  'module_structure': [1000*Damage.basic,\n",
       "   1000*Damage.basic,\n",
       "   1000*Damage.basic,\n",
       "   1000*Damage.basic,\n",
       "   1000*Damage.basic]}}"
      ]
     },
     "execution_count": 49,
     "metadata": {},
     "output_type": "execute_result"
    }
   ],
   "source": [
    "ca.produce_defense(defense)"
   ]
  },
  {
   "cell_type": "code",
   "execution_count": null,
   "id": "cde35615-deb9-40e3-b9c7-281cd96a596f",
   "metadata": {},
   "outputs": [],
   "source": []
  }
 ],
 "metadata": {
  "kernelspec": {
   "display_name": "Python 3",
   "language": "python",
   "name": "python3"
  },
  "language_info": {
   "codemirror_mode": {
    "name": "ipython",
    "version": 3
   },
   "file_extension": ".py",
   "mimetype": "text/x-python",
   "name": "python",
   "nbconvert_exporter": "python",
   "pygments_lexer": "ipython3",
   "version": "3.8.8"
  }
 },
 "nbformat": 4,
 "nbformat_minor": 5
}
