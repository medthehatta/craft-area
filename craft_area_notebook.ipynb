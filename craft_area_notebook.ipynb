{
 "cells": [
  {
   "cell_type": "code",
   "execution_count": 58,
   "id": "d5aa1e54-c32e-4863-bbd2-3e3026073f3f",
   "metadata": {},
   "outputs": [
    {
     "name": "stdout",
     "output_type": "stream",
     "text": [
      "C:\\Users\\Med\\Desktop\\craft-area\n"
     ]
    }
   ],
   "source": [
    "%cd ../craft-area\n",
    "from importlib import reload\n",
    "import chance; reload(chance)\n",
    "import craft_area as ca; reload(ca)\n",
    "import random"
   ]
  },
  {
   "cell_type": "code",
   "execution_count": 59,
   "id": "b0c548ed-089c-4ec3-936b-4b1ff197efee",
   "metadata": {},
   "outputs": [
    {
     "data": {
      "text/plain": [
       "{'size': 10,\n",
       " 'types': ['basic', 'exploding'],\n",
       " 'fleet': {'basic': 8, 'exploding': 2}}"
      ]
     },
     "execution_count": 59,
     "metadata": {},
     "output_type": "execute_result"
    }
   ],
   "source": [
    "ca.random_fleet(10)"
   ]
  },
  {
   "cell_type": "code",
   "execution_count": 60,
   "id": "5ddb845c-3f86-4fe5-9547-9242e3b1b2b6",
   "metadata": {},
   "outputs": [
    {
     "data": {
      "text/plain": [
       "<Chances: 100*basic (50%)) | FormalVector.zero() (50%))>"
      ]
     },
     "execution_count": 60,
     "metadata": {},
     "output_type": "execute_result"
    }
   ],
   "source": [
    "ca.basic_unit_type[\"attacks\"]"
   ]
  },
  {
   "cell_type": "code",
   "execution_count": 66,
   "id": "eefe1fae-1c6d-4595-96da-7b09391883e2",
   "metadata": {},
   "outputs": [
    {
     "data": {
      "text/plain": [
       "<Chances: 1 (37%)) | 2 (16%)) | 3 (42%)) | 9 (5%))>"
      ]
     },
     "execution_count": 66,
     "metadata": {},
     "output_type": "execute_result"
    }
   ],
   "source": [
    "ca.weighted([1, 2, 3, 9], [7, 3, 8, 1])"
   ]
  },
  {
   "cell_type": "code",
   "execution_count": 62,
   "id": "bdb39f6e-be07-4656-808e-3110c5e1226d",
   "metadata": {},
   "outputs": [
    {
     "data": {
      "text/plain": [
       "add(*(<Chances: 1 (50%)) | <Chances: 2 (100%))> (50%))>, <Chances: 20 (25%)) | 30 (25%)) | 40 (25%)) | 50 (25%))>))"
      ]
     },
     "execution_count": 62,
     "metadata": {},
     "output_type": "execute_result"
    }
   ],
   "source": [
    "ca.uniform(1, ca.definitely(2)) + ca.uniform(20, 30, 40, 50)"
   ]
  },
  {
   "cell_type": "code",
   "execution_count": 63,
   "id": "5c01a6cc-6bae-4be4-88d2-6338fec9fac3",
   "metadata": {},
   "outputs": [
    {
     "data": {
      "text/plain": [
       "31"
      ]
     },
     "execution_count": 63,
     "metadata": {},
     "output_type": "execute_result"
    }
   ],
   "source": [
    "_.resolve()"
   ]
  },
  {
   "cell_type": "code",
   "execution_count": null,
   "id": "ea3c6f3c-f23a-46dd-8645-cf462b415e73",
   "metadata": {},
   "outputs": [],
   "source": []
  },
  {
   "cell_type": "code",
   "execution_count": null,
   "id": "a87b0c34-ba32-41eb-b260-59fc58a88f55",
   "metadata": {},
   "outputs": [],
   "source": []
  },
  {
   "cell_type": "code",
   "execution_count": null,
   "id": "7212cf08-961c-448c-857a-32cfca3dc66e",
   "metadata": {},
   "outputs": [],
   "source": []
  }
 ],
 "metadata": {
  "kernelspec": {
   "display_name": "Python 3",
   "language": "python",
   "name": "python3"
  },
  "language_info": {
   "codemirror_mode": {
    "name": "ipython",
    "version": 3
   },
   "file_extension": ".py",
   "mimetype": "text/x-python",
   "name": "python",
   "nbconvert_exporter": "python",
   "pygments_lexer": "ipython3",
   "version": "3.8.8"
  }
 },
 "nbformat": 4,
 "nbformat_minor": 5
}
